{
  "cells": [
    {
      "cell_type": "markdown",
      "metadata": {
        "colab_type": "text",
        "id": "view-in-github"
      },
      "source": [
        "<a href=\"https://colab.research.google.com/github/dqminhv/fraudulent-job-posting-detection-with-NLP/blob/main/notebook/data-preprocessing-and-modeling.ipynb\" target=\"_parent\"><img src=\"https://colab.research.google.com/assets/colab-badge.svg\" alt=\"Open In Colab\"/></a>"
      ]
    },
    {
      "cell_type": "markdown",
      "metadata": {
        "id": "MZb0tH5ZldVK"
      },
      "source": [
        "# Data Preprocessing"
      ]
    },
    {
      "cell_type": "markdown",
      "metadata": {
        "id": "qgbik_UeUfLd"
      },
      "source": [
        "## Import required packages"
      ]
    },
    {
      "cell_type": "code",
      "execution_count": 16,
      "metadata": {
        "id": "poinvraqJnRa"
      },
      "outputs": [],
      "source": [
        "import pandas as pd\n",
        "import numpy as np\n",
        "import seaborn as sns\n",
        "import matplotlib.pyplot as plt\n",
        "\n",
        "from sklearn.model_selection import train_test_split\n",
        "from sklearn.feature_extraction.text import TfidfVectorizer, TfidfTransformer\n",
        "from sklearn.metrics import classification_report, precision_score, recall_score, roc_curve, auc, f1_score\n",
        "from sklearn.pipeline import Pipeline\n",
        "from sklearn.neural_network import MLPClassifier\n",
        "\n",
        "#Import classifiers\n",
        "from sklearn.naive_bayes import MultinomialNB\n",
        "from sklearn.svm import SVC\n",
        "from sklearn.linear_model import LogisticRegression\n",
        "from sklearn.ensemble import RandomForestClassifier\n",
        "from sklearn.ensemble import GradientBoostingClassifier\n",
        "from sklearn.ensemble import AdaBoostClassifier\n",
        "\n",
        "import nltk\n",
        "#nltk.download('stopwords')\n",
        "#nltk.download('punkt')\n",
        "#nltk.download('wordnet')\n",
        "from nltk.corpus import stopwords\n",
        "from nltk.tokenize import word_tokenize\n",
        "from nltk.stem import WordNetLemmatizer\n",
        "import re"
      ]
    },
    {
      "cell_type": "code",
      "execution_count": 17,
      "metadata": {
        "id": "OMjVFhXnPEcW"
      },
      "outputs": [
        {
          "name": "stdout",
          "output_type": "stream",
          "text": [
            "                                               title             location  \\\n",
            "0                                   marketing intern     us, ny, new york   \n",
            "1                  account executive - washington dc   us, dc, washington   \n",
            "2                                bill review manager   us, fl, fort worth   \n",
            "3            customer service associate - part time       us, az, phoenix   \n",
            "4  asp.net developer job opportunity at united st...  us, nj, jersey city   \n",
            "\n",
            "      department   salary_range  \\\n",
            "0      marketing  not specified   \n",
            "1          sales  not specified   \n",
            "2  not specified  not specified   \n",
            "3  not specified  not specified   \n",
            "4  not specified  100000-120000   \n",
            "\n",
            "                                     company_profile  \\\n",
            "0  we're food52, and we've created a groundbreaki...   \n",
            "1  our passion for improving quality of life thro...   \n",
            "2  spotsource solutions llc is a global human cap...   \n",
            "3  novitex enterprise solutions, formerly pitney ...   \n",
            "4                                      not specified   \n",
            "\n",
            "                                         description  \\\n",
            "0  food52, a fast-growing, james beard award-winn...   \n",
            "1  the company: esri – environmental systems rese...   \n",
            "2  job title: itemization review managerlocation:...   \n",
            "3  the customer service associate will be based i...   \n",
            "4  position : #url_86fd830a95a64e2b30ceed829e63fd...   \n",
            "\n",
            "                                        requirements  \\\n",
            "0  experience with content management systems a m...   \n",
            "1  education: bachelor’s or master’s in gis, busi...   \n",
            "2  qualifications:rn license in the state of texa...   \n",
            "3  minimum requirements:minimum of 6 months custo...   \n",
            "4  position : #url_86fd830a95a64e2b30ceed829e63fd...   \n",
            "\n",
            "                                            benefits  telecommuting  \\\n",
            "0                                      not specified              0   \n",
            "1  our culture is anything but corporate—we have ...              0   \n",
            "2                              full benefits offered              0   \n",
            "3                                      not specified              0   \n",
            "4  benefits - fullbonus eligible - yesinterview t...              0   \n",
            "\n",
            "   has_company_logo  has_questions employment_type required_experience  \\\n",
            "0                 1              0           other          internship   \n",
            "1                 1              0       full-time    mid-senior level   \n",
            "2                 1              1       full-time    mid-senior level   \n",
            "3                 1              0       part-time         entry level   \n",
            "4                 0              0       full-time    mid-senior level   \n",
            "\n",
            "          required_education                             industry  \\\n",
            "0              not specified                        not specified   \n",
            "1          bachelor's degree                    computer software   \n",
            "2          bachelor's degree               hospital & health care   \n",
            "3  high school or equivalent                   financial services   \n",
            "4          bachelor's degree  information technology and services   \n",
            "\n",
            "                 function  fraudulent  \n",
            "0               marketing           0  \n",
            "1                   sales           0  \n",
            "2    health care provider           0  \n",
            "3        customer service           0  \n",
            "4  information technology           0  \n"
          ]
        }
      ],
      "source": [
        "from from_root import from_root\n",
        "import os\n",
        "#Load csv file to a pandas DataFrame\n",
        "job_posting_us_file = os.path.join(from_root(), \"data/job-posting-us.csv\")\n",
        "\n",
        "try:\n",
        "    job_posting_us_df = pd.read_csv(job_posting_us_file)\n",
        "    print(job_posting_us_df.head())\n",
        "except FileNotFoundError:\n",
        "    print(f\"Error: File not found: {job_posting_us_file}\")"
      ]
    },
    {
      "cell_type": "code",
      "execution_count": 18,
      "metadata": {
        "colab": {
          "base_uri": "https://localhost:8080/"
        },
        "id": "L43zLoA5QXwX",
        "outputId": "5012464a-2f0e-4799-d5b9-d09919789950"
      },
      "outputs": [
        {
          "name": "stderr",
          "output_type": "stream",
          "text": [
            "[nltk_data] Downloading package stopwords to\n",
            "[nltk_data]     C:\\Users\\dqmin\\AppData\\Roaming\\nltk_data...\n",
            "[nltk_data]   Package stopwords is already up-to-date!\n",
            "[nltk_data] Downloading package punkt to\n",
            "[nltk_data]     C:\\Users\\dqmin\\AppData\\Roaming\\nltk_data...\n",
            "[nltk_data]   Package punkt is already up-to-date!\n",
            "[nltk_data] Downloading package wordnet to\n",
            "[nltk_data]     C:\\Users\\dqmin\\AppData\\Roaming\\nltk_data...\n",
            "[nltk_data]   Package wordnet is already up-to-date!\n"
          ]
        },
        {
          "data": {
            "text/plain": [
              "True"
            ]
          },
          "execution_count": 18,
          "metadata": {},
          "output_type": "execute_result"
        }
      ],
      "source": [
        "nltk.download('stopwords')\n",
        "nltk.download('punkt')\n",
        "nltk.download('wordnet')"
      ]
    },
    {
      "cell_type": "markdown",
      "metadata": {
        "id": "OdkqZjM-UPq2"
      },
      "source": [
        "## Create a text cleaning function"
      ]
    },
    {
      "cell_type": "code",
      "execution_count": 19,
      "metadata": {
        "id": "0ET8ZPTQQSpK"
      },
      "outputs": [],
      "source": [
        "#Create a function to clean the text feature\n",
        "stop=set(stopwords.words(\"english\"))\n",
        "\n",
        "def clean(text):\n",
        "    text=text.lower()\n",
        "    obj=re.compile(r\"<.*?>\")                     #removing html tags\n",
        "    text=obj.sub(r\" \",text)\n",
        "    obj=re.compile(r\"https://\\S+|http://\\S+\")    #removing url\n",
        "    text=obj.sub(r\" \",text)\n",
        "    obj=re.compile(r\"[^\\w\\s]\")                   #removing punctuations\n",
        "    text=obj.sub(r\" \",text)\n",
        "    obj=re.compile(r\"\\d{1,}\")                    #removing digits\n",
        "    text=obj.sub(r\" \",text)\n",
        "    obj=re.compile(r\"_+\")                        #removing underscore\n",
        "    text=obj.sub(r\" \",text)\n",
        "    obj=re.compile(r\"\\s\\w\\s\")                    #removing single character\n",
        "    text=obj.sub(r\" \",text)\n",
        "    obj=re.compile(r\"\\s{2,}\")                    #removing multiple spaces\n",
        "    text=obj.sub(r\" \",text)\n",
        "    lemmatizer = WordNetLemmatizer()\n",
        "    text=[lemmatizer.lemmatize(word) for word in text.split() if word not in stop]\n",
        "    return \" \".join(text)"
      ]
    },
    {
      "cell_type": "markdown",
      "metadata": {
        "id": "0nWHYNtFUS6Z"
      },
      "source": [
        "## Turning int variable to text"
      ]
    },
    {
      "cell_type": "code",
      "execution_count": 20,
      "metadata": {
        "id": "mIgnDJc_Q0LA"
      },
      "outputs": [],
      "source": [
        "job_posting_us_df['telecommuting'] = job_posting_us_df['telecommuting'].astype(str)\n",
        "job_posting_us_df.loc[job_posting_us_df.telecommuting == 1, 'telecommuting'] = 'telecommuting'\n",
        "job_posting_us_df.loc[job_posting_us_df.telecommuting == 0, 'telecommuting'] = 'no-telecommuting'\n",
        "\n",
        "job_posting_us_df['has_company_logo'] = job_posting_us_df['has_company_logo'].astype(str)\n",
        "job_posting_us_df.loc[job_posting_us_df.has_company_logo == 1, 'has_company_logo'] = 'has-logo'\n",
        "job_posting_us_df.loc[job_posting_us_df.has_company_logo == 0, 'has_company_logo'] = 'no-logo'\n",
        "\n",
        "job_posting_us_df['has_questions'] = job_posting_us_df['has_questions'].astype(str)\n",
        "job_posting_us_df.loc[job_posting_us_df.has_questions == 1, 'has_questions'] = 'has-questions'\n",
        "job_posting_us_df.loc[job_posting_us_df.has_questions == 0, 'has_questions'] = 'no-question'"
      ]
    },
    {
      "cell_type": "markdown",
      "metadata": {
        "id": "O-M4JAXUUkc0"
      },
      "source": [
        "## Create a text feature by combining all the columns"
      ]
    },
    {
      "cell_type": "code",
      "execution_count": 21,
      "metadata": {
        "id": "VEafdIU1RETh"
      },
      "outputs": [],
      "source": [
        "#Combine all features into one column\n",
        "job_posting_us_df[\"text\"]=\"\"\n",
        "for col in job_posting_us_df.drop('fraudulent', axis=1).columns:\n",
        "    job_posting_us_df[\"text\"]=job_posting_us_df[\"text\"]+\" \"+job_posting_us_df[col]"
      ]
    },
    {
      "cell_type": "code",
      "execution_count": 22,
      "metadata": {
        "colab": {
          "base_uri": "https://localhost:8080/"
        },
        "id": "PsQOIRA6RgFC",
        "outputId": "57ceb921-285e-4cd7-a772-dea32fe089d5"
      },
      "outputs": [
        {
          "data": {
            "text/plain": [
              "0       marketing intern u ny new york marketing speci...\n",
              "1       account executive washington dc u dc washingto...\n",
              "2       bill review manager u fl fort worth specified ...\n",
              "3       customer service associate part time u az phoe...\n",
              "4       asp net developer job opportunity united state...\n",
              "                              ...                        \n",
              "6747    post production editor u ia west de moines spe...\n",
              "6748    senior financial analyst retail u ca gardena s...\n",
              "6749    product manager u ca san francisco product dev...\n",
              "6750    javascript developer u specified specified sr ...\n",
              "6751    payroll accountant u pa philadelphia accountin...\n",
              "Name: text, Length: 6752, dtype: object"
            ]
          },
          "execution_count": 22,
          "metadata": {},
          "output_type": "execute_result"
        }
      ],
      "source": [
        "job_posting_us_df['text'].apply(clean)"
      ]
    },
    {
      "cell_type": "markdown",
      "metadata": {
        "id": "3Bjqkz2SloNd"
      },
      "source": [
        "# Modeling"
      ]
    },
    {
      "cell_type": "markdown",
      "metadata": {
        "id": "zROerl7vlwSI"
      },
      "source": [
        "**1. Models**\n",
        "\n",
        "\n",
        "\n",
        "Given the imbalanced nature of the dataset and the task of classifying fraudulent job postings based on job descriptions, several classification algorithms can be considered. However, algorithms that handle class imbalance well and are robust to noisy data are typically preferred. Here are some algorithms that you may want to consider:\n",
        "\n",
        "- **Random Forest**: Random Forest is an ensemble learning algorithm that works well with imbalanced datasets. It builds multiple decision trees and combines their predictions to improve accuracy.\n",
        "\n",
        "- **Gradient Boosting Machines (GBM)**: GBM algorithms like XGBoost, LightGBM, and CatBoost are also effective for imbalanced classification tasks. They sequentially build multiple weak learners to minimize a loss function, which often leads to better performance on imbalanced datasets.\n",
        "\n",
        "- **Support Vector Machines (SVM)**: SVM is a powerful algorithm for binary classification tasks. By adjusting the hyperparameters, such as the regularization parameter (C) and the kernel function, SVM can be effective for imbalanced data.\n",
        "\n",
        "- **Logistic Regression**: Despite its simplicity, logistic regression can perform well on imbalanced datasets, especially when combined with techniques like class weighting or penalization.\n",
        "\n",
        "- **AdaBoost**: AdaBoost is an ensemble learning algorithm that combines multiple weak classifiers to create a strong classifier. It is known to perform well on imbalanced datasets.\n",
        "\n",
        "- **Neural Networks**: Deep learning models, such as neural networks, can also be effective for imbalanced classification tasks, especially when dealing with large datasets. Architectures like Convolutional Neural Networks (CNNs) or Recurrent Neural Networks (RNNs) can capture complex patterns in text data.\n",
        "\n",
        "- **Naive Bayes**: Despite its simplicity and assumption of feature independence, Naive Bayes can perform surprisingly well on text classification tasks, including imbalanced datasets.\n",
        "\n",
        "**2. Metrics**\n",
        "\n",
        "For a fraud detection problem with an imbalanced dataset where the non-fraudulent class comprises 90% of the dataset, we use F1 score to evaluate the performance of the model. We want to maximize the True Positive Rate, which means we want to catch all the fraudulent job postings, but we also want to minimize the false positive rate, which means we do not want to flag to many legit job posting as fraudulent.\n",
        "\n",
        "**F1 Score**: The F1 score is the harmonic mean of precision and recall. It provides a balance between precision and recall and is useful when there is an imbalance between the classes in the dataset. The F1 score is calculated as 2 * (precision * recall) / (precision + recall)."
      ]
    },
    {
      "cell_type": "markdown",
      "metadata": {
        "id": "-DDlNU4QlqMn"
      },
      "source": [
        "## Train/Test Split"
      ]
    },
    {
      "cell_type": "code",
      "execution_count": 23,
      "metadata": {
        "id": "gX9phaG8l1Gz"
      },
      "outputs": [],
      "source": [
        "X = job_posting_us_df['text']\n",
        "y = job_posting_us_df['fraudulent']"
      ]
    },
    {
      "cell_type": "code",
      "execution_count": 24,
      "metadata": {
        "id": "pqXiExuTlpMh"
      },
      "outputs": [],
      "source": [
        "X_train, X_test, y_train, y_test = train_test_split(X, y, test_size=0.2, stratify=y, random_state=42)"
      ]
    },
    {
      "cell_type": "markdown",
      "metadata": {
        "id": "kmlHbqpoZz5v"
      },
      "source": [
        "## Vectorizing text data"
      ]
    },
    {
      "cell_type": "code",
      "execution_count": 25,
      "metadata": {
        "id": "RkO-CLauZ71W"
      },
      "outputs": [],
      "source": [
        "#Parameters\n",
        "stop_words = 'english'\n",
        "min_df = .2\n",
        "max_df = .7\n",
        "ngram_range=(1, 1)"
      ]
    },
    {
      "cell_type": "code",
      "execution_count": 26,
      "metadata": {
        "id": "we-qtxf0aCH1"
      },
      "outputs": [],
      "source": [
        "#Using TfidfVectorizer\n",
        "tfidf_vect = TfidfVectorizer(stop_words=stop_words, max_df=max_df, min_df=min_df, ngram_range=ngram_range)"
      ]
    },
    {
      "cell_type": "markdown",
      "metadata": {
        "id": "xpYJRFOygo4W"
      },
      "source": [
        "## Defining classifiers"
      ]
    },
    {
      "cell_type": "code",
      "execution_count": 27,
      "metadata": {
        "id": "GBeswoJNe9Vd"
      },
      "outputs": [],
      "source": [
        "# Define the classifiers\n",
        "classifiers = {\n",
        "    \"Multinomial Naive Bayes\": MultinomialNB(),\n",
        "    \"Random Forest Classifier\": RandomForestClassifier(),\n",
        "    \"Support Vector Classifier\": SVC(probability=True),\n",
        "    'Gradient Boosting Classifier' : GradientBoostingClassifier(),\n",
        "    'Logistic Regression Classifier': LogisticRegression(penalty='l2', solver='liblinear'),\n",
        "    'Ada Boost Classifier': AdaBoostClassifier(),\n",
        "    'Neural Network Classifier': MLPClassifier(hidden_layer_sizes=(100,), max_iter=1000)\n",
        "}"
      ]
    },
    {
      "cell_type": "markdown",
      "metadata": {
        "id": "VgmULkvqgsoM"
      },
      "source": [
        "## Create pipeline"
      ]
    },
    {
      "cell_type": "code",
      "execution_count": 28,
      "metadata": {
        "id": "aw4t7ia0fASs"
      },
      "outputs": [],
      "source": [
        "# Create the pipeline for each classifier\n",
        "pipelines = {}\n",
        "for classifier_name, classifier in classifiers.items():\n",
        "    pipelines[classifier_name] = Pipeline([\n",
        "        ('vectorizer', tfidf_vect),\n",
        "        ('classifier', classifier)\n",
        "    ])"
      ]
    },
    {
      "cell_type": "code",
      "execution_count": 29,
      "metadata": {},
      "outputs": [
        {
          "name": "stderr",
          "output_type": "stream",
          "text": [
            "d:\\Document\\GitHub\\fraudulent-job-posting-detection-with-NLP\\venv\\Lib\\site-packages\\sklearn\\metrics\\_classification.py:1531: UndefinedMetricWarning: Precision is ill-defined and being set to 0.0 due to no predicted samples. Use `zero_division` parameter to control this behavior.\n",
            "  _warn_prf(average, modifier, f\"{metric.capitalize()} is\", len(result))\n"
          ]
        },
        {
          "name": "stdout",
          "output_type": "stream",
          "text": [
            "Classifier: Multinomial Naive Bayes\n",
            "Recall: 0.0\n",
            "Precision: 0.0\n",
            "F1 Score: 0.0\n",
            "Classifier: Random Forest Classifier\n",
            "Recall: 0.4020618556701031\n",
            "Precision: 0.975\n",
            "F1 Score: 0.5693430656934306\n",
            "Classifier: Support Vector Classifier\n",
            "Recall: 0.4948453608247423\n",
            "Precision: 1.0\n",
            "F1 Score: 0.6620689655172414\n",
            "Classifier: Gradient Boosting Classifier\n",
            "Recall: 0.29896907216494845\n",
            "Precision: 0.9354838709677419\n",
            "F1 Score: 0.453125\n",
            "Classifier: Logistic Regression Classifier\n",
            "Recall: 0.16494845360824742\n",
            "Precision: 0.8\n",
            "F1 Score: 0.27350427350427353\n"
          ]
        },
        {
          "name": "stderr",
          "output_type": "stream",
          "text": [
            "d:\\Document\\GitHub\\fraudulent-job-posting-detection-with-NLP\\venv\\Lib\\site-packages\\sklearn\\ensemble\\_weight_boosting.py:527: FutureWarning: The SAMME.R algorithm (the default) is deprecated and will be removed in 1.6. Use the SAMME algorithm to circumvent this warning.\n",
            "  warnings.warn(\n"
          ]
        },
        {
          "name": "stdout",
          "output_type": "stream",
          "text": [
            "Classifier: Ada Boost Classifier\n",
            "Recall: 0.36082474226804123\n",
            "Precision: 0.5833333333333334\n",
            "F1 Score: 0.445859872611465\n",
            "Classifier: Neural Network Classifier\n",
            "Recall: 0.7010309278350515\n",
            "Precision: 0.9066666666666666\n",
            "F1 Score: 0.7906976744186046\n"
          ]
        },
        {
          "data": {
            "image/png": "[encoded data removed]",
            "text/plain": [
              "<Figure size 800x600 with 1 Axes>"
            ]
          },
          "metadata": {},
          "output_type": "display_data"
        }
      ],
      "source": [
        "import matplotlib.pyplot as plt\n",
        "from sklearn.metrics import roc_curve, auc\n",
        "\n",
        "# Initialize an empty list to store ROC AUC values\n",
        "roc_aucs = []\n",
        "\n",
        "plt.figure(figsize=(8, 6))  # Adjust figure size for multiple curves\n",
        "\n",
        "for classifier_name, pipeline in pipelines.items():\n",
        "    pipeline.fit(X_train, y_train)\n",
        "    predictions = pipeline.predict(X_test)\n",
        "    recall = recall_score(y_test, predictions)\n",
        "    precision = precision_score(y_test, predictions)\n",
        "    f1 = f1_score(y_test, predictions)\n",
        "    print(f\"Classifier: {classifier_name}\")\n",
        "    print(f\"Recall: {recall}\")\n",
        "    print(f\"Precision: {precision}\")\n",
        "    print(f\"F1 Score: {f1}\")\n",
        "\n",
        "    # Calculate fpr and tpr\n",
        "    # Get predicted probabilities\n",
        "    y_score = pipeline.predict_proba(X_test)[:, 1]\n",
        "    fpr, tpr, _ = roc_curve(y_test, y_score)\n",
        "\n",
        "    # Calculate AUC\n",
        "    roc_auc = auc(fpr, tpr)\n",
        "    roc_aucs.append(roc_auc)  # Store AUC value\n",
        "\n",
        "    # Plot ROC curve\n",
        "    plt.plot(fpr, tpr, label=f'{classifier_name} (AUC = {roc_auc:.2f})')\n",
        "\n",
        "# Plot ROC curve for random guessing\n",
        "plt.plot([0, 1], [0, 1], linestyle='--', color='grey', label='Random Guessing')\n",
        "\n",
        "# Set labels and title\n",
        "plt.xlabel('False Positive Rate')\n",
        "plt.ylabel('True Positive Rate')\n",
        "plt.title('Receiver Operating Characteristic (ROC) Curve')\n",
        "plt.legend(loc='lower right')\n",
        "\n",
        "# Show plot with additional information about AUC\n",
        "plt.text(0.6, 0.05, f\"Average AUC: {np.mean(roc_aucs):.2f}\", ha='center', va='center', fontsize=10)\n",
        "plt.show()\n"
      ]
    },
    {
      "cell_type": "code",
      "execution_count": 32,
      "metadata": {},
      "outputs": [
        {
          "data": {
            "text/plain": [
              "['model_MLP.joblib']"
            ]
          },
          "execution_count": 32,
          "metadata": {},
          "output_type": "execute_result"
        }
      ],
      "source": [
        "pipelines_MLP = Pipeline([\n",
        "        ('vectorizer', tfidf_vect),\n",
        "        ('classifier', MLPClassifier(hidden_layer_sizes=(100,), max_iter=1000))\n",
        "    ])\n",
        "\n",
        "import joblib\n",
        "joblib.dump(pipelines_MLP, \"model_MLP.joblib\")"
      ]
    },
    {
      "cell_type": "markdown",
      "metadata": {
        "id": "x3ZDsCs7g6t7"
      },
      "source": [
        "## Model selection and Hyper-paramerters tuning"
      ]
    },
    {
      "cell_type": "markdown",
      "metadata": {
        "id": "IYNiG0NXaiAn"
      },
      "source": [
        "The Neural Network Classifier yield the highest F1 score. Thus, we will select this model and perform hyper-parameters tuning."
      ]
    },
    {
      "cell_type": "code",
      "execution_count": null,
      "metadata": {
        "colab": {
          "base_uri": "https://localhost:8080/"
        },
        "id": "AkoUADFBcEzV",
        "outputId": "78371e33-07e7-402d-f919-51b17b274701"
      },
      "outputs": [
        {
          "name": "stdout",
          "output_type": "stream",
          "text": [
            "Fitting 5 folds for each of 48 candidates, totalling 240 fits\n"
          ]
        },
        {
          "name": "stderr",
          "output_type": "stream",
          "text": [
            "d:\\Document\\GitHub\\fraudulent-job-posting-detection-with-NLP\\venv\\Lib\\site-packages\\sklearn\\neural_network\\_multilayer_perceptron.py:690: ConvergenceWarning: Stochastic Optimizer: Maximum iterations (1000) reached and the optimization hasn't converged yet.\n",
            "  warnings.warn(\n",
            "d:\\Document\\GitHub\\fraudulent-job-posting-detection-with-NLP\\venv\\Lib\\site-packages\\sklearn\\neural_network\\_multilayer_perceptron.py:690: ConvergenceWarning: Stochastic Optimizer: Maximum iterations (1000) reached and the optimization hasn't converged yet.\n",
            "  warnings.warn(\n",
            "d:\\Document\\GitHub\\fraudulent-job-posting-detection-with-NLP\\venv\\Lib\\site-packages\\sklearn\\neural_network\\_multilayer_perceptron.py:697: UserWarning: Training interrupted by user.\n",
            "  warnings.warn(\"Training interrupted by user.\")\n"
          ]
        }
      ],
      "source": [
        "from sklearn.model_selection import GridSearchCV\n",
        "\n",
        "# Define the pipeline\n",
        "pipeline = Pipeline([\n",
        "    ('vectorizer', tfidf_vect),\n",
        "    ('clf', MLPClassifier(max_iter=1000))\n",
        "])\n",
        "\n",
        "# Define hyperparameters and their ranges\n",
        "parameters = {\n",
        "    'clf__hidden_layer_sizes': [(50,), (100,), (50, 50), (100, 100)],\n",
        "    'clf__activation': ['logistic', 'relu'],\n",
        "    'clf__alpha': [0.0001, 0.001, 0.01],\n",
        "    'clf__learning_rate': ['constant', 'adaptive'],\n",
        "}\n",
        "\n",
        "# Define the GridSearchCV object\n",
        "grid_search = GridSearchCV(pipeline, parameters, cv=5, scoring='f1', verbose=1)\n",
        "\n",
        "# Fit the GridSearchCV object to the data\n",
        "grid_search.fit(X_train, y_train)\n",
        "\n",
        "# Print the best parameters found\n",
        "print(\"Best parameters found:\")\n",
        "print(grid_search.best_params_)\n",
        "\n",
        "# Evaluate the best model on the test set\n",
        "y_pred = grid_search.predict(X_test)\n",
        "print(\"Classification Report:\")\n",
        "print(classification_report(y_test, y_pred))\n"
      ]
    },
    {
      "cell_type": "markdown",
      "metadata": {
        "id": "vV2Kb_khdyup"
      },
      "source": [
        "## Export Best Model"
      ]
    },
    {
      "cell_type": "code",
      "execution_count": null,
      "metadata": {
        "id": "HcXcamsYd1QJ"
      },
      "outputs": [
        {
          "ename": "NameError",
          "evalue": "name 'grid_search' is not defined",
          "output_type": "error",
          "traceback": [
            "\u001b[1;31m---------------------------------------------------------------------------\u001b[0m",
            "\u001b[1;31mNameError\u001b[0m                                 Traceback (most recent call last)",
            "Cell \u001b[1;32mIn[1], line 8\u001b[0m\n\u001b[0;32m      1\u001b[0m \u001b[38;5;66;03m#import pickle\u001b[39;00m\n\u001b[0;32m      2\u001b[0m \n\u001b[0;32m      3\u001b[0m \u001b[38;5;66;03m# Save the model to a file\u001b[39;00m\n\u001b[0;32m      4\u001b[0m \u001b[38;5;66;03m#with open('model.pkl', 'wb') as file:\u001b[39;00m\n\u001b[0;32m      5\u001b[0m \u001b[38;5;66;03m#    pickle.dump(grid_search, file)\u001b[39;00m\n\u001b[0;32m      7\u001b[0m \u001b[38;5;28;01mimport\u001b[39;00m \u001b[38;5;21;01mjoblib\u001b[39;00m\n\u001b[1;32m----> 8\u001b[0m joblib\u001b[38;5;241m.\u001b[39mdump(\u001b[43mgrid_search\u001b[49m, \u001b[38;5;124m\"\u001b[39m\u001b[38;5;124mmodel.joblib\u001b[39m\u001b[38;5;124m\"\u001b[39m)\n",
            "\u001b[1;31mNameError\u001b[0m: name 'grid_search' is not defined"
          ]
        }
      ],
      "source": [
        "import pickle\n",
        "\n",
        "# Save the model to a file\n",
        "with open(os.path.join(from_root(), \"model/model.pkl\"), 'rb') as file:\n",
        "    pickle.dump(grid_search, file)\n",
        "\n",
        "#import joblib\n",
        "#joblib.dump(grid_search, \"model.joblib\")"
      ]
    }
  ],
  "metadata": {
    "colab": {
      "authorship_tag": "ABX9TyNfEOM/CMrhiaBHUJULeFxV",
      "include_colab_link": true,
      "provenance": []
    },
    "kernelspec": {
      "display_name": "Python 3",
      "name": "python3"
    },
    "language_info": {
      "codemirror_mode": {
        "name": "ipython",
        "version": 3
      },
      "file_extension": ".py",
      "mimetype": "text/x-python",
      "name": "python",
      "nbconvert_exporter": "python",
      "pygments_lexer": "ipython3",
      "version": "3.12.4"
    }
  },
  "nbformat": 4,
  "nbformat_minor": 0
}
