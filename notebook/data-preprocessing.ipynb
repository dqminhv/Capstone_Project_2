{
  "nbformat": 4,
  "nbformat_minor": 0,
  "metadata": {
    "colab": {
      "provenance": [],
      "authorship_tag": "ABX9TyMsL9MnU6WAqtZX5HBxq6+U",
      "include_colab_link": true
    },
    "kernelspec": {
      "name": "python3",
      "display_name": "Python 3"
    },
    "language_info": {
      "name": "python"
    }
  },
  "cells": [
    {
      "cell_type": "markdown",
      "metadata": {
        "id": "view-in-github",
        "colab_type": "text"
      },
      "source": [
        "<a href=\"https://colab.research.google.com/github/dqminhv/fraudulent-job-posting-detection-with-NLP/blob/main/notebook/data-preprocessing.ipynb\" target=\"_parent\"><img src=\"https://colab.research.google.com/assets/colab-badge.svg\" alt=\"Open In Colab\"/></a>"
      ]
    },
    {
      "cell_type": "markdown",
      "source": [
        "# Import required packages"
      ],
      "metadata": {
        "id": "qgbik_UeUfLd"
      }
    },
    {
      "cell_type": "code",
      "execution_count": 25,
      "metadata": {
        "id": "poinvraqJnRa"
      },
      "outputs": [],
      "source": [
        "import pandas as pd\n",
        "import numpy as np\n",
        "import seaborn as sns\n",
        "import matplotlib.pyplot as plt\n",
        "from scipy.stats import chi2_contingency\n",
        "from wordcloud import WordCloud\n",
        "from sklearn import tree, metrics\n",
        "from sklearn.model_selection import train_test_split, GridSearchCV\n",
        "from sklearn.feature_extraction.text import TfidfVectorizer, CountVectorizer, TfidfTransformer\n",
        "from sklearn.metrics import classification_report\n",
        "from sklearn.naive_bayes import MultinomialNB\n",
        "from sklearn.svm import SVC\n",
        "from sklearn.pipeline import Pipeline\n",
        "from sklearn.linear_model import LogisticRegression\n",
        "import nltk\n",
        "#nltk.download('stopwords')\n",
        "#nltk.download('punkt')\n",
        "#nltk.download('wordnet')\n",
        "from nltk.corpus import stopwords\n",
        "from nltk.tokenize import word_tokenize\n",
        "from nltk.stem import WordNetLemmatizer\n",
        "import re"
      ]
    },
    {
      "cell_type": "code",
      "source": [
        "job_posting_us_df = pd.read_csv('https://raw.githubusercontent.com/dqminhv/fraudulent-job-posting-detection-with-NLP/main/Data/job-posting-us.csv')"
      ],
      "metadata": {
        "id": "OMjVFhXnPEcW"
      },
      "execution_count": 15,
      "outputs": []
    },
    {
      "cell_type": "code",
      "source": [
        "nltk.download('stopwords')\n",
        "nltk.download('punkt')\n",
        "nltk.download('wordnet')"
      ],
      "metadata": {
        "id": "L43zLoA5QXwX",
        "outputId": "63d21ac8-d784-489a-f3c8-620ea38bd4b8",
        "colab": {
          "base_uri": "https://localhost:8080/"
        }
      },
      "execution_count": 4,
      "outputs": [
        {
          "output_type": "stream",
          "name": "stderr",
          "text": [
            "[nltk_data] Downloading package stopwords to /root/nltk_data...\n",
            "[nltk_data]   Unzipping corpora/stopwords.zip.\n",
            "[nltk_data] Downloading package punkt to /root/nltk_data...\n",
            "[nltk_data]   Unzipping tokenizers/punkt.zip.\n",
            "[nltk_data] Downloading package wordnet to /root/nltk_data...\n"
          ]
        },
        {
          "output_type": "execute_result",
          "data": {
            "text/plain": [
              "True"
            ]
          },
          "metadata": {},
          "execution_count": 4
        }
      ]
    },
    {
      "cell_type": "markdown",
      "source": [
        "# Create a text cleaning function"
      ],
      "metadata": {
        "id": "OdkqZjM-UPq2"
      }
    },
    {
      "cell_type": "code",
      "source": [
        "#Create a function to clean the text feature\n",
        "stop=set(stopwords.words(\"english\"))\n",
        "\n",
        "def clean(text):\n",
        "    text=text.lower()\n",
        "    obj=re.compile(r\"<.*?>\")                     #removing html tags\n",
        "    text=obj.sub(r\" \",text)\n",
        "    obj=re.compile(r\"https://\\S+|http://\\S+\")    #removing url\n",
        "    text=obj.sub(r\" \",text)\n",
        "    obj=re.compile(r\"[^\\w\\s]\")                   #removing punctuations\n",
        "    text=obj.sub(r\" \",text)\n",
        "    obj=re.compile(r\"\\d{1,}\")                    #removing digits\n",
        "    text=obj.sub(r\" \",text)\n",
        "    obj=re.compile(r\"_+\")                        #removing underscore\n",
        "    text=obj.sub(r\" \",text)\n",
        "    obj=re.compile(r\"\\s\\w\\s\")                    #removing single character\n",
        "    text=obj.sub(r\" \",text)\n",
        "    obj=re.compile(r\"\\s{2,}\")                    #removing multiple spaces\n",
        "    text=obj.sub(r\" \",text)\n",
        "    lemmatizer = WordNetLemmatizer()\n",
        "    text=[lemmatizer.lemmatize(word) for word in text.split() if word not in stop]\n",
        "    return \" \".join(text)"
      ],
      "metadata": {
        "id": "0ET8ZPTQQSpK"
      },
      "execution_count": 5,
      "outputs": []
    },
    {
      "cell_type": "markdown",
      "source": [
        "# Turning int variable to text"
      ],
      "metadata": {
        "id": "0nWHYNtFUS6Z"
      }
    },
    {
      "cell_type": "code",
      "source": [
        "job_posting_us_df.loc[job_posting_us_df.telecommuting == 1, 'telecommuting'] = 'telecommuting'\n",
        "job_posting_us_df.loc[job_posting_us_df.telecommuting == 0, 'telecommuting'] = 'no-telecommuting'\n",
        "\n",
        "job_posting_us_df.loc[job_posting_us_df.has_company_logo == 1, 'has_company_logo'] = 'has-logo'\n",
        "job_posting_us_df.loc[job_posting_us_df.has_company_logo == 0, 'has_company_logo'] = 'no-logo'\n",
        "\n",
        "job_posting_us_df.loc[job_posting_us_df.has_questions == 1, 'has_questions'] = 'has-questions'\n",
        "job_posting_us_df.loc[job_posting_us_df.has_questions == 0, 'has_questions'] = 'no-question'"
      ],
      "metadata": {
        "id": "mIgnDJc_Q0LA"
      },
      "execution_count": 17,
      "outputs": []
    },
    {
      "cell_type": "markdown",
      "source": [
        "# Create a text feature by combining all the columns"
      ],
      "metadata": {
        "id": "O-M4JAXUUkc0"
      }
    },
    {
      "cell_type": "code",
      "source": [
        "#Combine all features into one column\n",
        "job_posting_us_df[\"text\"]=\"\"\n",
        "for col in job_posting_us_df.drop('fraudulent', axis=1).columns:\n",
        "    job_posting_us_df[\"text\"]=job_posting_us_df[\"text\"]+\" \"+job_posting_us_df[col]"
      ],
      "metadata": {
        "id": "VEafdIU1RETh"
      },
      "execution_count": 18,
      "outputs": []
    },
    {
      "cell_type": "code",
      "source": [
        "job_posting_us_df['text'].apply(clean)"
      ],
      "metadata": {
        "id": "PsQOIRA6RgFC",
        "outputId": "127e0364-42a0-46ce-971e-e03f0fee0918",
        "colab": {
          "base_uri": "https://localhost:8080/"
        }
      },
      "execution_count": 20,
      "outputs": [
        {
          "output_type": "execute_result",
          "data": {
            "text/plain": [
              "0       marketing intern u ny new york marketing speci...\n",
              "1       account executive washington dc u dc washingto...\n",
              "2       bill review manager u fl fort worth specified ...\n",
              "3       customer service associate part time u az phoe...\n",
              "4       asp net developer job opportunity united state...\n",
              "                              ...                        \n",
              "6747    post production editor u ia west de moines spe...\n",
              "6748    senior financial analyst retail u ca gardena s...\n",
              "6749    product manager u ca san francisco product dev...\n",
              "6750    javascript developer u specified specified sr ...\n",
              "6751    payroll accountant u pa philadelphia accountin...\n",
              "Name: text, Length: 6752, dtype: object"
            ]
          },
          "metadata": {},
          "execution_count": 20
        }
      ]
    },
    {
      "cell_type": "markdown",
      "source": [
        "\n",
        "# Spliting Data into Training and Testing Sets"
      ],
      "metadata": {
        "id": "oEhlstUPTZu4"
      }
    },
    {
      "cell_type": "code",
      "source": [
        "X = job_posting_us_df['text']\n",
        "y = job_posting_us_df['fraudulent']"
      ],
      "metadata": {
        "id": "jrkUuloqTsRI"
      },
      "execution_count": 23,
      "outputs": []
    },
    {
      "cell_type": "code",
      "source": [
        "X_train, X_test, y_train, y_test = train_test_split(X, y, test_size=0.2, stratify=y, random_state=42)"
      ],
      "metadata": {
        "id": "x5OGbVaIT0Xs"
      },
      "execution_count": 26,
      "outputs": []
    }
  ]
}