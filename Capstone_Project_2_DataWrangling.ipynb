{
 "cells": [
  {
   "cell_type": "markdown",
   "id": "12705af4",
   "metadata": {
    "colab_type": "text",
    "id": "view-in-github"
   },
   "source": [
    "<a href=\"https://colab.research.google.com/github/dqminhv/Capstone_Project_2/blob/main/Capstone_Project_2_DataWrangling.ipynb\" target=\"_parent\"><img src=\"https://colab.research.google.com/assets/colab-badge.svg\" alt=\"Open In Colab\"/></a>"
   ]
  },
  {
   "cell_type": "code",
   "execution_count": null,
   "id": "266f4a1f",
   "metadata": {
    "colab": {
     "base_uri": "https://localhost:8080/"
    },
    "id": "266f4a1f",
    "outputId": "a39cce3b-de40-4f81-b7cc-9dcad5eeba08"
   },
   "outputs": [],
   "source": [
    "#install required package\n",
    "!pip install selenium\n",
    "!pip install beautifulsoup4\n",
    "!pip install -U googlemaps"
   ]
  },
  {
   "cell_type": "code",
   "execution_count": null,
   "id": "7b3ca678",
   "metadata": {
    "id": "7b3ca678"
   },
   "outputs": [],
   "source": [
    "# import required packages\n",
    "from selenium import webdriver\n",
    "from selenium.webdriver.chrome.service import Service\n",
    "from selenium.webdriver.common.action_chains import ActionChains\n",
    "from selenium.webdriver.common.by import By\n",
    "import time\n",
    "import pandas as pd\n",
    "import numpy as np\n",
    "import matplotlib\n",
    "from matplotlib import pyplot as plt\n",
    "import seaborn as sns\n",
    "import googlemaps"
   ]
  },
  {
   "cell_type": "code",
   "execution_count": null,
   "id": "a2d160a9",
   "metadata": {
    "id": "a2d160a9"
   },
   "outputs": [],
   "source": [
    "#import time\n",
    "#time.sleep(3)"
   ]
  },
  {
   "cell_type": "code",
   "execution_count": null,
   "id": "208e0233",
   "metadata": {
    "id": "208e0233"
   },
   "outputs": [],
   "source": [
    "options = webdriver.ChromeOptions()\n",
    "options.add_argument('headless')\n",
    "service = Service(executable_path='C:\\chromedriver_win32\\chromedriver.exe')\n",
    "driver = webdriver.Chrome(service=service, options=options)"
   ]
  },
  {
   "cell_type": "code",
   "execution_count": null,
   "id": "93bbf40f",
   "metadata": {},
   "outputs": [],
   "source": [
    "# Obtain the Google Map URL\n",
    "url = [\"https://www.google.com/maps/place/DTK+Nail+Supply/@37.3092852,-121.8590669,17z/data=!3m1!4b1!4m6!3m5!1s0x808fcbf7670071f7:0xeb11303c0368647a!8m2!3d37.309281!4d-121.856492!16s%2Fg%2F11g6vhgm8q?entry=ttu\"]\n",
    "# Initialize variables and declare it 0\n",
    "i = 0\n",
    "  \n",
    "# Create a loop for obtaining data from URLs\n",
    "for i in range(len(url)):\n",
    "  \n",
    "    # Open the Google Map URL\n",
    "    driver.get(url[i])\n",
    "  \n",
    "    # Obtain the title of that place\n",
    "    #title = driver.find_element_by_class_name(\n",
    "     #   \"x3AX1-LfntMc-header-title-title\")\n",
    "    title = driver.find_element(By.XPATH, '/html/body/div[3]/div[9]/div[9]/div/div/div[1]/div[2]/div/div[1]/div/div/div[2]/div/div[1]/div[1]/h1')\n",
    "    print(i+1, \"-\", title.text)\n",
    "  "
   ]
  }
 ],
 "metadata": {
  "colab": {
   "include_colab_link": true,
   "provenance": []
  },
  "kernelspec": {
   "display_name": "Python 3 (ipykernel)",
   "language": "python",
   "name": "python3"
  },
  "language_info": {
   "codemirror_mode": {
    "name": "ipython",
    "version": 3
   },
   "file_extension": ".py",
   "mimetype": "text/x-python",
   "name": "python",
   "nbconvert_exporter": "python",
   "pygments_lexer": "ipython3",
   "version": "3.10.9"
  }
 },
 "nbformat": 4,
 "nbformat_minor": 5
}
